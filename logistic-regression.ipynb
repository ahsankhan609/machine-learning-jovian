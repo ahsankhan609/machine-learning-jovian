{
 "cells": [
  {
   "cell_type": "markdown",
   "metadata": {},
   "source": [
    "# Logistic regression is a commonly used technique for solving binary classification problems"
   ]
  },
  {
   "cell_type": "markdown",
   "metadata": {},
   "source": [
    "- Downloading a real-world dataset from Kaggle\n",
    "- Splitting a dataset into training, validation & test sets\n",
    "- Imputing and scaling numeric features\n",
    "- Encoding categorical columns as one-hot vectors\n",
    "- Training a logistic regression model using Scikit-learn\n",
    "- Evaluating a model using a validation set and test set"
   ]
  },
  {
   "attachments": {},
   "cell_type": "markdown",
   "metadata": {},
   "source": [
    "## Problem Statement\n",
    "This tutorial takes a practical and coding-focused approach. We'll learn how to apply _logistic regression_ to a real-world dataset from [Kaggle]('https://www.kaggle.com/ahsankhan609'): on [Rain in Australia]('https://www.kaggle.com/datasets/jsphyg/weather-dataset-rattle-package')"
   ]
  }
 ],
 "metadata": {
  "kernelspec": {
   "display_name": "Python 3",
   "language": "python",
   "name": "python3"
  },
  "language_info": {
   "name": "python",
   "version": "3.10.6 (tags/v3.10.6:9c7b4bd, Aug  1 2022, 21:53:49) [MSC v.1932 64 bit (AMD64)]"
  },
  "orig_nbformat": 4,
  "vscode": {
   "interpreter": {
    "hash": "a026d40c51bf785050ce6488af672717f7956dccb077e6589f97d9d2c87a4e70"
   }
  }
 },
 "nbformat": 4,
 "nbformat_minor": 2
}
